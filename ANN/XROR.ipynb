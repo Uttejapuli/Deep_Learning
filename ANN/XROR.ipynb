{
 "cells": [
  {
   "cell_type": "code",
   "execution_count": 1,
   "id": "a7ce5223",
   "metadata": {},
   "outputs": [],
   "source": [
    "import numpy as np\n",
    "import pandas as pd\n",
    "import seaborn as sns\n",
    "import matplotlib.pyplot as plt\n",
    "from sklearn.model_selection import train_test_split\n",
    "from sklearn.preprocessing import StandardScaler\n",
    "import keras\n",
    "from keras import Sequential\n",
    "from keras.layers import Dense \n",
    "from keras.regularizers import L1,L2,L1L2\n",
    "from keras.optimizers import SGD\n",
    "\n",
    "\n",
    "from mlxtend.plotting import plot_decision_regions"
   ]
  },
  {
   "cell_type": "code",
   "execution_count": 2,
   "id": "07b40138",
   "metadata": {},
   "outputs": [],
   "source": [
    "df = pd.read_csv(r\"C:\\Users\\Utteja\\Downloads\\Data science innomatics\\DEEP_LEARNING\\Deep_ learning assenment\\Multiple CSV\\7.xor.csv\",header = None)"
   ]
  },
  {
   "cell_type": "code",
   "execution_count": 4,
   "id": "ac924132",
   "metadata": {},
   "outputs": [
    {
     "data": {
      "text/html": [
       "<div>\n",
       "<style scoped>\n",
       "    .dataframe tbody tr th:only-of-type {\n",
       "        vertical-align: middle;\n",
       "    }\n",
       "\n",
       "    .dataframe tbody tr th {\n",
       "        vertical-align: top;\n",
       "    }\n",
       "\n",
       "    .dataframe thead th {\n",
       "        text-align: right;\n",
       "    }\n",
       "</style>\n",
       "<table border=\"1\" class=\"dataframe\">\n",
       "  <thead>\n",
       "    <tr style=\"text-align: right;\">\n",
       "      <th></th>\n",
       "      <th>0</th>\n",
       "      <th>1</th>\n",
       "      <th>2</th>\n",
       "    </tr>\n",
       "  </thead>\n",
       "  <tbody>\n",
       "    <tr>\n",
       "      <th>0</th>\n",
       "      <td>1.764052</td>\n",
       "      <td>0.400157</td>\n",
       "      <td>-1.0</td>\n",
       "    </tr>\n",
       "    <tr>\n",
       "      <th>1</th>\n",
       "      <td>0.978738</td>\n",
       "      <td>2.240893</td>\n",
       "      <td>-1.0</td>\n",
       "    </tr>\n",
       "    <tr>\n",
       "      <th>2</th>\n",
       "      <td>1.867558</td>\n",
       "      <td>-0.977278</td>\n",
       "      <td>1.0</td>\n",
       "    </tr>\n",
       "    <tr>\n",
       "      <th>3</th>\n",
       "      <td>0.950088</td>\n",
       "      <td>-0.151357</td>\n",
       "      <td>1.0</td>\n",
       "    </tr>\n",
       "    <tr>\n",
       "      <th>4</th>\n",
       "      <td>-0.103219</td>\n",
       "      <td>0.410599</td>\n",
       "      <td>1.0</td>\n",
       "    </tr>\n",
       "  </tbody>\n",
       "</table>\n",
       "</div>"
      ],
      "text/plain": [
       "          0         1    2\n",
       "0  1.764052  0.400157 -1.0\n",
       "1  0.978738  2.240893 -1.0\n",
       "2  1.867558 -0.977278  1.0\n",
       "3  0.950088 -0.151357  1.0\n",
       "4 -0.103219  0.410599  1.0"
      ]
     },
     "execution_count": 4,
     "metadata": {},
     "output_type": "execute_result"
    }
   ],
   "source": [
    "df.head()"
   ]
  },
  {
   "cell_type": "code",
   "execution_count": 5,
   "id": "15182ebd",
   "metadata": {},
   "outputs": [
    {
     "name": "stdout",
     "output_type": "stream",
     "text": [
      "<class 'pandas.core.frame.DataFrame'>\n",
      "RangeIndex: 500 entries, 0 to 499\n",
      "Data columns (total 3 columns):\n",
      " #   Column  Non-Null Count  Dtype  \n",
      "---  ------  --------------  -----  \n",
      " 0   0       500 non-null    float64\n",
      " 1   1       500 non-null    float64\n",
      " 2   2       500 non-null    float64\n",
      "dtypes: float64(3)\n",
      "memory usage: 11.8 KB\n"
     ]
    }
   ],
   "source": [
    "df.info()"
   ]
  },
  {
   "cell_type": "code",
   "execution_count": 6,
   "id": "e012421c",
   "metadata": {},
   "outputs": [
    {
     "data": {
      "text/plain": [
       "-1.0    260\n",
       " 1.0    240\n",
       "Name: 2, dtype: int64"
      ]
     },
     "execution_count": 6,
     "metadata": {},
     "output_type": "execute_result"
    }
   ],
   "source": [
    "df[2].value_counts()"
   ]
  },
  {
   "cell_type": "code",
   "execution_count": 7,
   "id": "13bfced1",
   "metadata": {},
   "outputs": [
    {
     "data": {
      "text/html": [
       "<div>\n",
       "<style scoped>\n",
       "    .dataframe tbody tr th:only-of-type {\n",
       "        vertical-align: middle;\n",
       "    }\n",
       "\n",
       "    .dataframe tbody tr th {\n",
       "        vertical-align: top;\n",
       "    }\n",
       "\n",
       "    .dataframe thead th {\n",
       "        text-align: right;\n",
       "    }\n",
       "</style>\n",
       "<table border=\"1\" class=\"dataframe\">\n",
       "  <thead>\n",
       "    <tr style=\"text-align: right;\">\n",
       "      <th></th>\n",
       "      <th>0</th>\n",
       "      <th>1</th>\n",
       "      <th>2</th>\n",
       "    </tr>\n",
       "  </thead>\n",
       "  <tbody>\n",
       "    <tr>\n",
       "      <th>0</th>\n",
       "      <td>1.764052</td>\n",
       "      <td>0.400157</td>\n",
       "      <td>0</td>\n",
       "    </tr>\n",
       "    <tr>\n",
       "      <th>1</th>\n",
       "      <td>0.978738</td>\n",
       "      <td>2.240893</td>\n",
       "      <td>0</td>\n",
       "    </tr>\n",
       "    <tr>\n",
       "      <th>2</th>\n",
       "      <td>1.867558</td>\n",
       "      <td>-0.977278</td>\n",
       "      <td>1</td>\n",
       "    </tr>\n",
       "    <tr>\n",
       "      <th>3</th>\n",
       "      <td>0.950088</td>\n",
       "      <td>-0.151357</td>\n",
       "      <td>1</td>\n",
       "    </tr>\n",
       "    <tr>\n",
       "      <th>4</th>\n",
       "      <td>-0.103219</td>\n",
       "      <td>0.410599</td>\n",
       "      <td>1</td>\n",
       "    </tr>\n",
       "  </tbody>\n",
       "</table>\n",
       "</div>"
      ],
      "text/plain": [
       "          0         1  2\n",
       "0  1.764052  0.400157  0\n",
       "1  0.978738  2.240893  0\n",
       "2  1.867558 -0.977278  1\n",
       "3  0.950088 -0.151357  1\n",
       "4 -0.103219  0.410599  1"
      ]
     },
     "execution_count": 7,
     "metadata": {},
     "output_type": "execute_result"
    }
   ],
   "source": [
    "df[2]=np.where(df[2]==-1.0,0,1)\n",
    "df.head() "
   ]
  },
  {
   "cell_type": "code",
   "execution_count": 8,
   "id": "17bba56a",
   "metadata": {},
   "outputs": [
    {
     "data": {
      "text/plain": [
       "<AxesSubplot:xlabel='0'>"
      ]
     },
     "execution_count": 8,
     "metadata": {},
     "output_type": "execute_result"
    },
    {
     "data": {
      "image/png": "[encoded data removed]",
      "text/plain": [
       "<Figure size 640x480 with 1 Axes>"
      ]
     },
     "metadata": {},
     "output_type": "display_data"
    }
   ],
   "source": [
    "sns.boxplot(x = df[0])"
   ]
  },
  {
   "cell_type": "code",
   "execution_count": 9,
   "id": "af8a8968",
   "metadata": {},
   "outputs": [
    {
     "data": {
      "text/plain": [
       "<AxesSubplot:xlabel='1'>"
      ]
     },
     "execution_count": 9,
     "metadata": {},
     "output_type": "execute_result"
    },
    {
     "data": {
      "image/png": "[encoded data removed]",
      "text/plain": [
       "<Figure size 640x480 with 1 Axes>"
      ]
     },
     "metadata": {},
     "output_type": "display_data"
    }
   ],
   "source": [
    "sns.boxplot(x = df[1])"
   ]
  },
  {
   "cell_type": "code",
   "execution_count": 10,
   "id": "099cb34c",
   "metadata": {},
   "outputs": [],
   "source": [
    "x=df[[0,1]] \n",
    "y=df[2].astype(int) "
   ]
  },
  {
   "cell_type": "code",
   "execution_count": 11,
   "id": "48d29351",
   "metadata": {},
   "outputs": [
    {
     "data": {
      "text/html": [
       "<div>\n",
       "<style scoped>\n",
       "    .dataframe tbody tr th:only-of-type {\n",
       "        vertical-align: middle;\n",
       "    }\n",
       "\n",
       "    .dataframe tbody tr th {\n",
       "        vertical-align: top;\n",
       "    }\n",
       "\n",
       "    .dataframe thead th {\n",
       "        text-align: right;\n",
       "    }\n",
       "</style>\n",
       "<table border=\"1\" class=\"dataframe\">\n",
       "  <thead>\n",
       "    <tr style=\"text-align: right;\">\n",
       "      <th></th>\n",
       "      <th>0</th>\n",
       "      <th>1</th>\n",
       "    </tr>\n",
       "  </thead>\n",
       "  <tbody>\n",
       "    <tr>\n",
       "      <th>0</th>\n",
       "      <td>1.764052</td>\n",
       "      <td>0.400157</td>\n",
       "    </tr>\n",
       "    <tr>\n",
       "      <th>1</th>\n",
       "      <td>0.978738</td>\n",
       "      <td>2.240893</td>\n",
       "    </tr>\n",
       "    <tr>\n",
       "      <th>2</th>\n",
       "      <td>1.867558</td>\n",
       "      <td>-0.977278</td>\n",
       "    </tr>\n",
       "    <tr>\n",
       "      <th>3</th>\n",
       "      <td>0.950088</td>\n",
       "      <td>-0.151357</td>\n",
       "    </tr>\n",
       "    <tr>\n",
       "      <th>4</th>\n",
       "      <td>-0.103219</td>\n",
       "      <td>0.410599</td>\n",
       "    </tr>\n",
       "  </tbody>\n",
       "</table>\n",
       "</div>"
      ],
      "text/plain": [
       "          0         1\n",
       "0  1.764052  0.400157\n",
       "1  0.978738  2.240893\n",
       "2  1.867558 -0.977278\n",
       "3  0.950088 -0.151357\n",
       "4 -0.103219  0.410599"
      ]
     },
     "execution_count": 11,
     "metadata": {},
     "output_type": "execute_result"
    }
   ],
   "source": [
    "x.head()  "
   ]
  },
  {
   "cell_type": "code",
   "execution_count": 12,
   "id": "3338e3bb",
   "metadata": {},
   "outputs": [
    {
     "data": {
      "text/plain": [
       "0    0\n",
       "1    0\n",
       "2    1\n",
       "3    1\n",
       "4    1\n",
       "Name: 2, dtype: int32"
      ]
     },
     "execution_count": 12,
     "metadata": {},
     "output_type": "execute_result"
    }
   ],
   "source": [
    "y.head()  "
   ]
  },
  {
   "cell_type": "code",
   "execution_count": 14,
   "id": "61c80b7e",
   "metadata": {},
   "outputs": [],
   "source": [
    "x_train,x_test,y_train,y_test=train_test_split(x,y,test_size=0.1)  "
   ]
  },
  {
   "cell_type": "code",
   "execution_count": 15,
   "id": "0a9c0b3f",
   "metadata": {},
   "outputs": [
    {
     "data": {
      "text/plain": [
       "(450, 2)"
      ]
     },
     "execution_count": 15,
     "metadata": {},
     "output_type": "execute_result"
    }
   ],
   "source": [
    "x_train.shape  "
   ]
  },
  {
   "cell_type": "code",
   "execution_count": 16,
   "id": "21c1875a",
   "metadata": {},
   "outputs": [
    {
     "data": {
      "text/plain": [
       "(50, 2)"
      ]
     },
     "execution_count": 16,
     "metadata": {},
     "output_type": "execute_result"
    }
   ],
   "source": [
    "x_test.shape "
   ]
  },
  {
   "cell_type": "code",
   "execution_count": 17,
   "id": "345c1ff6",
   "metadata": {},
   "outputs": [],
   "source": [
    "std=StandardScaler()\n",
    "x_train=std.fit_transform(x_train)\n",
    "x_test=std.transform(x_test)  "
   ]
  },
  {
   "cell_type": "code",
   "execution_count": 18,
   "id": "6c86c9ca",
   "metadata": {},
   "outputs": [],
   "source": [
    "model=Sequential()\n",
    "model.add(Dense(20,activation=\"relu\",kernel_regularizer=L2(0.001),bias_regularizer=L2(0.001),input_dim=2))\n",
    "model.add(Dense(18,activation=\"relu\",kernel_regularizer=L2(0.001),bias_regularizer=L2(0.001)))\n",
    "model.add(Dense(16,activation=\"relu\",kernel_regularizer=L2(0.001),bias_regularizer=L2(0.001)))\n",
    "model.add(Dense(1,activation=\"sigmoid\",kernel_regularizer=L2(0.001),bias_regularizer=L2(0.001))) "
   ]
  },
  {
   "cell_type": "code",
   "execution_count": 19,
   "id": "277b6c3b",
   "metadata": {},
   "outputs": [
    {
     "name": "stdout",
     "output_type": "stream",
     "text": [
      "Model: \"sequential\"\n",
      "_________________________________________________________________\n",
      " Layer (type)                Output Shape              Param #   \n",
      "=================================================================\n",
      " dense (Dense)               (None, 20)                60        \n",
      "                                                                 \n",
      " dense_1 (Dense)             (None, 18)                378       \n",
      "                                                                 \n",
      " dense_2 (Dense)             (None, 16)                304       \n",
      "                                                                 \n",
      " dense_3 (Dense)             (None, 1)                 17        \n",
      "                                                                 \n",
      "=================================================================\n",
      "Total params: 759\n",
      "Trainable params: 759\n",
      "Non-trainable params: 0\n",
      "_________________________________________________________________\n"
     ]
    }
   ],
   "source": [
    "model.summary()  "
   ]
  },
  {
   "cell_type": "code",
   "execution_count": 20,
   "id": "640e116f",
   "metadata": {},
   "outputs": [
    {
     "name": "stdout",
     "output_type": "stream",
     "text": [
      "Epoch 1/35\n",
      "41/41 [==============================] - 1s 12ms/step - loss: 0.7505 - accuracy: 0.5136 - val_loss: 0.7429 - val_accuracy: 0.5556\n",
      "Epoch 2/35\n",
      "41/41 [==============================] - 0s 3ms/step - loss: 0.7334 - accuracy: 0.5210 - val_loss: 0.7278 - val_accuracy: 0.5556\n",
      "Epoch 3/35\n",
      "41/41 [==============================] - 0s 3ms/step - loss: 0.7218 - accuracy: 0.5284 - val_loss: 0.7164 - val_accuracy: 0.6000\n",
      "Epoch 4/35\n",
      "41/41 [==============================] - 0s 3ms/step - loss: 0.7123 - accuracy: 0.5728 - val_loss: 0.7060 - val_accuracy: 0.6222\n",
      "Epoch 5/35\n",
      "41/41 [==============================] - 0s 3ms/step - loss: 0.7029 - accuracy: 0.6420 - val_loss: 0.6950 - val_accuracy: 0.7778\n",
      "Epoch 6/35\n",
      "41/41 [==============================] - 0s 3ms/step - loss: 0.6932 - accuracy: 0.7580 - val_loss: 0.6845 - val_accuracy: 0.8667\n",
      "Epoch 7/35\n",
      "41/41 [==============================] - 0s 3ms/step - loss: 0.6827 - accuracy: 0.8099 - val_loss: 0.6731 - val_accuracy: 0.9111\n",
      "Epoch 8/35\n",
      "41/41 [==============================] - 0s 4ms/step - loss: 0.6716 - accuracy: 0.8642 - val_loss: 0.6610 - val_accuracy: 0.9333\n",
      "Epoch 9/35\n",
      "41/41 [==============================] - 0s 4ms/step - loss: 0.6597 - accuracy: 0.9062 - val_loss: 0.6485 - val_accuracy: 0.9333\n",
      "Epoch 10/35\n",
      "41/41 [==============================] - 0s 4ms/step - loss: 0.6469 - accuracy: 0.9062 - val_loss: 0.6353 - val_accuracy: 0.8889\n",
      "Epoch 11/35\n",
      "41/41 [==============================] - 0s 4ms/step - loss: 0.6330 - accuracy: 0.9259 - val_loss: 0.6217 - val_accuracy: 0.8667\n",
      "Epoch 12/35\n",
      "41/41 [==============================] - 0s 4ms/step - loss: 0.6189 - accuracy: 0.9160 - val_loss: 0.6069 - val_accuracy: 0.8667\n",
      "Epoch 13/35\n",
      "41/41 [==============================] - 0s 4ms/step - loss: 0.6030 - accuracy: 0.9185 - val_loss: 0.5905 - val_accuracy: 0.8889\n",
      "Epoch 14/35\n",
      "41/41 [==============================] - 0s 4ms/step - loss: 0.5860 - accuracy: 0.9259 - val_loss: 0.5732 - val_accuracy: 0.8889\n",
      "Epoch 15/35\n",
      "41/41 [==============================] - 0s 3ms/step - loss: 0.5677 - accuracy: 0.9309 - val_loss: 0.5539 - val_accuracy: 0.8889\n",
      "Epoch 16/35\n",
      "41/41 [==============================] - 0s 4ms/step - loss: 0.5485 - accuracy: 0.9235 - val_loss: 0.5330 - val_accuracy: 0.9111\n",
      "Epoch 17/35\n",
      "41/41 [==============================] - 0s 4ms/step - loss: 0.5279 - accuracy: 0.9531 - val_loss: 0.5121 - val_accuracy: 0.9111\n",
      "Epoch 18/35\n",
      "41/41 [==============================] - 0s 4ms/step - loss: 0.5061 - accuracy: 0.9407 - val_loss: 0.4900 - val_accuracy: 0.9111\n",
      "Epoch 19/35\n",
      "41/41 [==============================] - 0s 3ms/step - loss: 0.4843 - accuracy: 0.9654 - val_loss: 0.4673 - val_accuracy: 0.9111\n",
      "Epoch 20/35\n",
      "41/41 [==============================] - 0s 4ms/step - loss: 0.4610 - accuracy: 0.9630 - val_loss: 0.4433 - val_accuracy: 0.9111\n",
      "Epoch 21/35\n",
      "41/41 [==============================] - 0s 3ms/step - loss: 0.4388 - accuracy: 0.9481 - val_loss: 0.4194 - val_accuracy: 0.9111\n",
      "Epoch 22/35\n",
      "41/41 [==============================] - 0s 3ms/step - loss: 0.4161 - accuracy: 0.9654 - val_loss: 0.3960 - val_accuracy: 0.9111\n",
      "Epoch 23/35\n",
      "41/41 [==============================] - 0s 4ms/step - loss: 0.3942 - accuracy: 0.9630 - val_loss: 0.3754 - val_accuracy: 0.9111\n",
      "Epoch 24/35\n",
      "41/41 [==============================] - 0s 4ms/step - loss: 0.3730 - accuracy: 0.9605 - val_loss: 0.3577 - val_accuracy: 0.9111\n",
      "Epoch 25/35\n",
      "41/41 [==============================] - 0s 4ms/step - loss: 0.3547 - accuracy: 0.9679 - val_loss: 0.3376 - val_accuracy: 0.9111\n",
      "Epoch 26/35\n",
      "41/41 [==============================] - 0s 3ms/step - loss: 0.3368 - accuracy: 0.9679 - val_loss: 0.3237 - val_accuracy: 0.9111\n",
      "Epoch 27/35\n",
      "41/41 [==============================] - 0s 3ms/step - loss: 0.3217 - accuracy: 0.9654 - val_loss: 0.3081 - val_accuracy: 0.9111\n",
      "Epoch 28/35\n",
      "41/41 [==============================] - 0s 4ms/step - loss: 0.3065 - accuracy: 0.9630 - val_loss: 0.2949 - val_accuracy: 0.9111\n",
      "Epoch 29/35\n",
      "41/41 [==============================] - 0s 4ms/step - loss: 0.2938 - accuracy: 0.9753 - val_loss: 0.2819 - val_accuracy: 0.9111\n",
      "Epoch 30/35\n",
      "41/41 [==============================] - 0s 4ms/step - loss: 0.2822 - accuracy: 0.9704 - val_loss: 0.2729 - val_accuracy: 0.9111\n",
      "Epoch 31/35\n",
      "41/41 [==============================] - 0s 4ms/step - loss: 0.2712 - accuracy: 0.9753 - val_loss: 0.2606 - val_accuracy: 0.9111\n",
      "Epoch 32/35\n",
      "41/41 [==============================] - 0s 3ms/step - loss: 0.2610 - accuracy: 0.9654 - val_loss: 0.2520 - val_accuracy: 0.9111\n",
      "Epoch 33/35\n",
      "41/41 [==============================] - 0s 3ms/step - loss: 0.2523 - accuracy: 0.9728 - val_loss: 0.2444 - val_accuracy: 0.9333\n",
      "Epoch 34/35\n",
      "41/41 [==============================] - 0s 3ms/step - loss: 0.2450 - accuracy: 0.9679 - val_loss: 0.2365 - val_accuracy: 0.9111\n",
      "Epoch 35/35\n",
      "41/41 [==============================] - 0s 3ms/step - loss: 0.2366 - accuracy: 0.9753 - val_loss: 0.2308 - val_accuracy: 0.9333\n"
     ]
    }
   ],
   "source": [
    "model.compile(loss=\"binary_crossentropy\",optimizer=SGD(0.01),metrics=[\"accuracy\"])\n",
    "history=model.fit(x_train,y_train,batch_size=10,epochs=35,validation_split=0.1) "
   ]
  },
  {
   "cell_type": "code",
   "execution_count": 21,
   "id": "92ef5693",
   "metadata": {},
   "outputs": [
    {
     "data": {
      "text/plain": [
       "<matplotlib.legend.Legend at 0x2573a8732b0>"
      ]
     },
     "execution_count": 21,
     "metadata": {},
     "output_type": "execute_result"
    },
    {
     "data": {
      "image/png": "[encoded data removed]",
      "text/plain": [
       "<Figure size 640x480 with 1 Axes>"
      ]
     },
     "metadata": {},
     "output_type": "display_data"
    }
   ],
   "source": [
    "plt.plot(range(1,36),history.history[\"loss\"],label=\"train_loss\")\n",
    "plt.plot(range(1,36),history.history[\"val_loss\"],label=\"test_loss\") \n",
    "plt.legend() "
   ]
  },
  {
   "cell_type": "code",
   "execution_count": 22,
   "id": "5aa37692",
   "metadata": {},
   "outputs": [
    {
     "name": "stdout",
     "output_type": "stream",
     "text": [
      "2/2 [==============================] - 0s 8ms/step\n"
     ]
    },
    {
     "data": {
      "text/plain": [
       "array([[0.04483186],\n",
       "       [0.00262035],\n",
       "       [0.54486066],\n",
       "       [0.9767341 ],\n",
       "       [0.11907559],\n",
       "       [0.12440141],\n",
       "       [0.9654347 ],\n",
       "       [0.034031  ],\n",
       "       [0.0051836 ],\n",
       "       [0.0758293 ],\n",
       "       [0.22556935],\n",
       "       [0.0150706 ],\n",
       "       [0.99915063],\n",
       "       [0.7644271 ],\n",
       "       [0.47875085],\n",
       "       [0.58383155],\n",
       "       [0.02252263],\n",
       "       [0.56286377],\n",
       "       [0.9153491 ],\n",
       "       [0.50680816],\n",
       "       [0.89819163],\n",
       "       [0.00758176],\n",
       "       [0.1125332 ],\n",
       "       [0.07478928],\n",
       "       [0.98899204],\n",
       "       [0.26410472],\n",
       "       [0.8889623 ],\n",
       "       [0.96039814],\n",
       "       [0.96127987],\n",
       "       [0.14057995],\n",
       "       [0.13502216],\n",
       "       [0.05164879],\n",
       "       [0.784966  ],\n",
       "       [0.01479869],\n",
       "       [0.30864957],\n",
       "       [0.45364687],\n",
       "       [0.12325864],\n",
       "       [0.32063037],\n",
       "       [0.12980644],\n",
       "       [0.07474973],\n",
       "       [0.4630451 ],\n",
       "       [0.14256169],\n",
       "       [0.970611  ],\n",
       "       [0.99864316],\n",
       "       [0.9419167 ],\n",
       "       [0.40073165],\n",
       "       [0.57623315],\n",
       "       [0.8836651 ],\n",
       "       [0.99453866],\n",
       "       [0.34776908]], dtype=float32)"
      ]
     },
     "execution_count": 22,
     "metadata": {},
     "output_type": "execute_result"
    }
   ],
   "source": [
    "predicted=model.predict(x_test) \n",
    "predicted "
   ]
  },
  {
   "cell_type": "code",
   "execution_count": 23,
   "id": "23f4dcd0",
   "metadata": {},
   "outputs": [
    {
     "data": {
      "text/plain": [
       "array([[0],\n",
       "       [0],\n",
       "       [1],\n",
       "       [1],\n",
       "       [0],\n",
       "       [0],\n",
       "       [1],\n",
       "       [0],\n",
       "       [0],\n",
       "       [0],\n",
       "       [0],\n",
       "       [0],\n",
       "       [1],\n",
       "       [1],\n",
       "       [0],\n",
       "       [1],\n",
       "       [0],\n",
       "       [1],\n",
       "       [1],\n",
       "       [1],\n",
       "       [1],\n",
       "       [0],\n",
       "       [0],\n",
       "       [0],\n",
       "       [1],\n",
       "       [0],\n",
       "       [1],\n",
       "       [1],\n",
       "       [1],\n",
       "       [0],\n",
       "       [0],\n",
       "       [0],\n",
       "       [1],\n",
       "       [0],\n",
       "       [0],\n",
       "       [0],\n",
       "       [0],\n",
       "       [0],\n",
       "       [0],\n",
       "       [0],\n",
       "       [0],\n",
       "       [0],\n",
       "       [1],\n",
       "       [1],\n",
       "       [1],\n",
       "       [0],\n",
       "       [1],\n",
       "       [1],\n",
       "       [1],\n",
       "       [0]])"
      ]
     },
     "execution_count": 23,
     "metadata": {},
     "output_type": "execute_result"
    }
   ],
   "source": [
    "predicted=np.where(predicted>0.5,1,0)\n",
    "predicted  "
   ]
  },
  {
   "cell_type": "code",
   "execution_count": 24,
   "id": "b70abf14",
   "metadata": {},
   "outputs": [
    {
     "name": "stdout",
     "output_type": "stream",
     "text": [
      "0.96\n"
     ]
    },
    {
     "data": {
      "image/png": "[encoded data removed]",
      "text/plain": [
       "<Figure size 640x480 with 2 Axes>"
      ]
     },
     "metadata": {},
     "output_type": "display_data"
    }
   ],
   "source": [
    "from sklearn.metrics import accuracy_score,confusion_matrix,ConfusionMatrixDisplay\n",
    "print(accuracy_score(y_test,predicted))\n",
    "cm=confusion_matrix(y_test,predicted)\n",
    "va=ConfusionMatrixDisplay(cm)\n",
    "va.plot() \n",
    "plt.show()  "
   ]
  },
  {
   "cell_type": "code",
   "execution_count": 25,
   "id": "0f130cad",
   "metadata": {},
   "outputs": [
    {
     "name": "stdout",
     "output_type": "stream",
     "text": [
      "9600/9600 [==============================] - 17s 2ms/step\n"
     ]
    },
    {
     "data": {
      "text/plain": [
       "<AxesSubplot:>"
      ]
     },
     "execution_count": 25,
     "metadata": {},
     "output_type": "execute_result"
    },
    {
     "data": {
      "image/png": "[encoded data removed]",
      "text/plain": [
       "<Figure size 640x480 with 1 Axes>"
      ]
     },
     "metadata": {},
     "output_type": "display_data"
    }
   ],
   "source": [
    "plot_decision_regions(x_train,y_train.values,clf=model) "
   ]
  },
  {
   "cell_type": "code",
   "execution_count": 26,
   "id": "051f4e5c",
   "metadata": {},
   "outputs": [
    {
     "name": "stdout",
     "output_type": "stream",
     "text": [
      "9600/9600 [==============================] - 15s 2ms/step\n"
     ]
    },
    {
     "data": {
      "text/plain": [
       "<AxesSubplot:>"
      ]
     },
     "execution_count": 26,
     "metadata": {},
     "output_type": "execute_result"
    },
    {
     "data": {
      "image/png": "[encoded data removed]",
      "text/plain": [
       "<Figure size 640x480 with 1 Axes>"
      ]
     },
     "metadata": {},
     "output_type": "display_data"
    }
   ],
   "source": [
    "plot_decision_regions(x_test,y_test.values,clf=model) "
   ]
  },
  {
   "cell_type": "code",
   "execution_count": null,
   "id": "df47d464",
   "metadata": {},
   "outputs": [],
   "source": []
  }
 ],
 "metadata": {
  "kernelspec": {
   "display_name": "Python 3 (ipykernel)",
   "language": "python",
   "name": "python3"
  },
  "language_info": {
   "codemirror_mode": {
    "name": "ipython",
    "version": 3
   },
   "file_extension": ".py",
   "mimetype": "text/x-python",
   "name": "python",
   "nbconvert_exporter": "python",
   "pygments_lexer": "ipython3",
   "version": "3.9.13"
  }
 },
 "nbformat": 4,
 "nbformat_minor": 5
}
